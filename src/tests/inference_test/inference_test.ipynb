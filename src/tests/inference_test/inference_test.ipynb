{
 "cells": [
  {
   "cell_type": "markdown",
   "id": "4e2490f2",
   "metadata": {},
   "source": [
    "# Test for Inference"
   ]
  },
  {
   "cell_type": "code",
   "execution_count": 1,
   "id": "0e2796c1",
   "metadata": {},
   "outputs": [
    {
     "name": "stderr",
     "output_type": "stream",
     "text": [
      "/opt/anaconda3/envs/basicPython/lib/python3.13/site-packages/tqdm/auto.py:21: TqdmWarning: IProgress not found. Please update jupyter and ipywidgets. See https://ipywidgets.readthedocs.io/en/stable/user_install.html\n",
      "  from .autonotebook import tqdm as notebook_tqdm\n"
     ]
    }
   ],
   "source": [
    "import os\n",
    "import sys\n",
    "\n",
    "# Add src/ to the path (go two folders up)\n",
    "sys.path.append(os.path.abspath(os.path.join(os.getcwd(), \"../..\")))\n",
    "\n",
    "from inference.text_preprocessor import TextPreprocessor\n",
    "from inference.text_encoder import TextEncoder"
   ]
  },
  {
   "cell_type": "code",
   "execution_count": 2,
   "id": "71f3d272",
   "metadata": {},
   "outputs": [],
   "source": [
    "preprocessor = TextPreprocessor()\n",
    "encoder = TextEncoder()\n",
    "\n",
    "example_text = [\"Learn-to-Race is an OpenAI gym compliant, multimodal control environment where agents learn how to race. Unlike many simplistic learning environments, ours is built around Arrival’s high-fidelity racing simulator featuring full software-in-the-loop (SIL), and even hardware-in-the-loop (HIL), simulation capabilities. This simulator has played a key role in bringing autonomous racing technology to real life in the Roborace series, the world’s first extreme competition of teams developing self-driving AI.\",\"Selected feature highlights High-fidelity racing maps + generation: the L2R framework and the Arrival Autonomous Racing Simulator offer agents the ability to learn to race on high-precision models of real-world racing tracks, such as the famed Thruxton Circuit (UK) and the North Road Track at the Las Vegas Motor Speedway. Users are also able to construct their own maps, using the map-builder mode.\"]"
   ]
  },
  {
   "cell_type": "code",
   "execution_count": 3,
   "id": "5c750e0d",
   "metadata": {},
   "outputs": [
    {
     "name": "stdout",
     "output_type": "stream",
     "text": [
      "Model 'bert-base-uncased' loaded successfully on cpu.\n"
     ]
    }
   ],
   "source": [
    "encoder.load_model()"
   ]
  },
  {
   "cell_type": "code",
   "execution_count": 6,
   "id": "409f23cd",
   "metadata": {},
   "outputs": [],
   "source": [
    "embadding = encoder.encode(example_text)"
   ]
  },
  {
   "cell_type": "code",
   "execution_count": 8,
   "id": "91bf746a",
   "metadata": {},
   "outputs": [
    {
     "name": "stdout",
     "output_type": "stream",
     "text": [
      "(2, 768)\n"
     ]
    }
   ],
   "source": [
    "print(embadding.shape)"
   ]
  },
  {
   "cell_type": "code",
   "execution_count": null,
   "id": "d8f8ef68",
   "metadata": {},
   "outputs": [],
   "source": []
  }
 ],
 "metadata": {
  "kernelspec": {
   "display_name": "basicPython",
   "language": "python",
   "name": "python3"
  },
  "language_info": {
   "codemirror_mode": {
    "name": "ipython",
    "version": 3
   },
   "file_extension": ".py",
   "mimetype": "text/x-python",
   "name": "python",
   "nbconvert_exporter": "python",
   "pygments_lexer": "ipython3",
   "version": "3.13.2"
  }
 },
 "nbformat": 4,
 "nbformat_minor": 5
}
